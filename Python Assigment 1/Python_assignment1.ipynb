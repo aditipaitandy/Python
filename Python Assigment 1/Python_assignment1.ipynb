{
 "cells": [
  {
   "cell_type": "code",
   "execution_count": 15,
   "id": "35dd8f9d-868e-4c03-9b5f-ff8cd2a2918b",
   "metadata": {},
   "outputs": [
    {
     "name": "stdin",
     "output_type": "stream",
     "text": [
      "Enter first number:  10\n",
      "Enter second number:  3\n"
     ]
    },
    {
     "name": "stdout",
     "output_type": "stream",
     "text": [
      "Addition: 13.0\n",
      "Subtraction: 7.0\n",
      "Multiplication: 30.0\n",
      "Division: 3.33\n",
      "Modulus: 1.0\n",
      "Exponentiation: 1000.0\n",
      "Floor Division: 3.0\n"
     ]
    }
   ],
   "source": [
    "# Arithmetic Operations\n",
    "# Get input from the user\n",
    "n1= float(input(\"Enter first number: \"))  \n",
    "n2= float(input(\"Enter second number: \"))\n",
    "\n",
    "# Perform calculations\n",
    "addition = n1 + n2\n",
    "subtraction = n1 - n2\n",
    "multiplication = n1 * n2\n",
    "division = n1 / n2\n",
    "modulus = n1 % n2\n",
    "exponentiation = n1 ** n2\n",
    "floor_division = n1 // n2\n",
    "\n",
    "# Display results\n",
    "print(f\"Addition: {addition}\")\n",
    "print(f\"Subtraction: {subtraction}\")\n",
    "print(f\"Multiplication: {multiplication}\")\n",
    "print(f\"Division: {division:.2f}\")  \n",
    "print(f\"Modulus: {modulus}\")\n",
    "print(f\"Exponentiation: {exponentiation}\")\n",
    "print(f\"Floor Division: {floor_division}\")        "
   ]
  },
  {
   "cell_type": "code",
   "execution_count": 9,
   "id": "2a08db3f-3f84-45e2-b019-ed8370174831",
   "metadata": {},
   "outputs": [
    {
     "name": "stdin",
     "output_type": "stream",
     "text": [
      "Enter first number:  30\n",
      "Enter second number:  20\n"
     ]
    },
    {
     "name": "stdout",
     "output_type": "stream",
     "text": [
      "Is the first number greater than the second? True\n",
      "Is the first number equal to the second? False\n",
      "Is the first number less than or equal to the second? False\n"
     ]
    }
   ],
   "source": [
    "# Comparison Operations\n",
    "# Get input from the user\n",
    "num1 = float(input(\"Enter first number: \"))\n",
    "num2 = float(input(\"Enter second number: \"))\n",
    "\n",
    "# Perform comparisons\n",
    "greater_than = num1 > num2\n",
    "equal_to = num1 == num2\n",
    "less_than_or_equal = num1 <= num2\n",
    "\n",
    "# Display results\n",
    "print(f\"Is the first number greater than the second? {greater_than}\")\n",
    "print(f\"Is the first number equal to the second? {equal_to}\")\n",
    "print(f\"Is the first number less than or equal to the second? {less_than_or_equal}\")\n"
   ]
  },
  {
   "cell_type": "code",
   "execution_count": 1,
   "id": "44937ca0-1bba-4707-bfa5-23b50daff4bc",
   "metadata": {},
   "outputs": [
    {
     "name": "stdin",
     "output_type": "stream",
     "text": [
      "Enter first boolean value (True/False):  True \n",
      "Enter second boolean value (True/False):  False\n",
      "Enter third boolean value (True/False):  True\n"
     ]
    },
    {
     "name": "stdout",
     "output_type": "stream",
     "text": [
      "AND result: False\n",
      "OR result: True\n",
      "NOT first boolean: True\n",
      "NOT second boolean: True\n",
      "NOT third boolean: False\n"
     ]
    }
   ],
   "source": [
    "# Logical Operations\n",
    "# Get input from the user\n",
    "a = input(\"Enter first boolean value (True/False): \") == 'True'\n",
    "b = input(\"Enter second boolean value (True/False): \") == 'True'\n",
    "c = input(\"Enter third boolean value (True/False): \") == 'True'\n",
    "\n",
    "# Combine boolean values using logical operators\n",
    "and_result = a and b and c\n",
    "or_result = a or b or c\n",
    "not_result1 = not a\n",
    "not_result2 = not b\n",
    "not_result3 = not c\n",
    "\n",
    "# Display results\n",
    "print(f\"AND result: {and_result}\")\n",
    "print(f\"OR result: {or_result}\")\n",
    "print(f\"NOT first boolean: {not_result1}\")\n",
    "print(f\"NOT second boolean: {not_result2}\")\n",
    "print(f\"NOT third boolean: {not_result3}\")\n"
   ]
  },
  {
   "cell_type": "code",
   "execution_count": 17,
   "id": "68e7757c-8b67-4fc9-850e-6caea7cde41d",
   "metadata": {},
   "outputs": [
    {
     "name": "stdin",
     "output_type": "stream",
     "text": [
      "Enter a string:  Elephant\n"
     ]
    },
    {
     "name": "stdout",
     "output_type": "stream",
     "text": [
      "Length of string: 8\n",
      "First character: E\n",
      "Last character: t\n",
      "Reversed string: tnahpelE\n",
      "Uppercase string: ELEPHANT\n",
      "Lowercase string: elephant\n"
     ]
    }
   ],
   "source": [
    "# String Manipulation\n",
    "# Get string input from the user\n",
    "user_string = input(\"Enter a string: \")\n",
    "\n",
    "# Perform string manipulations\n",
    "string_length = len(user_string)\n",
    "first_character = user_string[0]\n",
    "last_character = user_string[-1]\n",
    "reversed_string = user_string[::-1]\n",
    "uppercase_string = user_string.upper()\n",
    "lowercase_string = user_string.lower()\n",
    "\n",
    "# Display results\n",
    "print(f\"Length of string: {string_length}\")\n",
    "print(f\"First character: {first_character}\")\n",
    "print(f\"Last character: {last_character}\")\n",
    "print(f\"Reversed string: {reversed_string}\")\n",
    "print(f\"Uppercase string: {uppercase_string}\")\n",
    "print(f\"Lowercase string: {lowercase_string}\")\n"
   ]
  },
  {
   "cell_type": "code",
   "execution_count": 19,
   "id": "c0e1a04e-b7fd-48a5-a1d3-211bdf3d86d8",
   "metadata": {},
   "outputs": [
    {
     "name": "stdin",
     "output_type": "stream",
     "text": [
      "Enter your name:  Aditi\n",
      "Enter your age:  21\n"
     ]
    },
    {
     "name": "stdout",
     "output_type": "stream",
     "text": [
      "Hello Aditi, you are 21 years old.\n"
     ]
    }
   ],
   "source": [
    "# String Formatting\n",
    "# Get user input for name and age\n",
    "name = input(\"Enter your name: \")\n",
    "age = input(\"Enter your age: \")\n",
    "\n",
    "# Display message\n",
    "print(f\"Hello {name}, you are {age} years old.\")\n"
   ]
  },
  {
   "cell_type": "code",
   "execution_count": 21,
   "id": "bfd04d2d-ece2-4221-af45-49661de5b9a6",
   "metadata": {},
   "outputs": [
    {
     "name": "stdin",
     "output_type": "stream",
     "text": [
      "Enter a sentence:  Hello World!\n",
      "Enter a word to search in the sentence:  World\n"
     ]
    },
    {
     "name": "stdout",
     "output_type": "stream",
     "text": [
      "The word 'World' exists in the sentence at index 6.\n"
     ]
    }
   ],
   "source": [
    "# Substring Search\n",
    "# Get input from the user\n",
    "sentence = input(\"Enter a sentence: \")\n",
    "word_to_search = input(\"Enter a word to search in the sentence: \")\n",
    "\n",
    "# Check if the word exists in the sentence\n",
    "if word_to_search in sentence:\n",
    "    position = sentence.index(word_to_search)\n",
    "    print(f\"The word '{word_to_search}' exists in the sentence at index {position}.\")\n",
    "else:\n",
    "    print(f\"The word '{word_to_search}' does not exist in the sentence.\")\n"
   ]
  },
  {
   "cell_type": "code",
   "execution_count": 7,
   "id": "f686f37c-715d-43dc-a900-ae107a6bcce4",
   "metadata": {},
   "outputs": [
    {
     "name": "stdin",
     "output_type": "stream",
     "text": [
      "Enter number 1:  12\n",
      "Enter number 2:  2\n",
      "Enter number 3:  34\n",
      "Enter number 4:  21\n",
      "Enter number 5:  2\n"
     ]
    },
    {
     "name": "stdout",
     "output_type": "stream",
     "text": [
      "Sum of all numbers: 71.0\n",
      "Largest number: 34.0\n",
      "Smallest number: 2.0\n"
     ]
    }
   ],
   "source": [
    "# List Operations\n",
    "# Get a list of 5 numbers from the user\n",
    "numbers = []\n",
    "for i in range(5):\n",
    "    number = float(input(f\"Enter number {i + 1}: \")) \n",
    "    numbers.append(number)\n",
    "\n",
    "# Display the sum, largest, and smallest number\n",
    "total_sum = sum(numbers)\n",
    "largest_number = max(numbers)\n",
    "smallest_number = min(numbers)\n",
    "\n",
    "print(f\"Sum of all numbers: {total_sum}\")\n",
    "print(f\"Largest number: {largest_number}\")\n",
    "print(f\"Smallest number: {smallest_number}\")\n"
   ]
  },
  {
   "cell_type": "code",
   "execution_count": 9,
   "id": "db59d261-8ddd-4949-b25c-3ce74335e624",
   "metadata": {},
   "outputs": [
    {
     "name": "stdout",
     "output_type": "stream",
     "text": [
      "Updated fruit list: ['Apple', 'Cherry', 'Mango', 'Orange', 'Pineapple']\n"
     ]
    }
   ],
   "source": [
    "# List Manipulation\n",
    "# Create a list of favorite fruits\n",
    "fruits = [\"Apple\", \"Banana\", \"Cherry\", \"Mango\", \"Orange\"]\n",
    "\n",
    "# Add a new fruit\n",
    "fruits.append(\"Pineapple\")\n",
    "\n",
    "# Remove the second fruit\n",
    "fruits.pop(1)\n",
    "\n",
    "# Display the updated list\n",
    "print(f\"Updated fruit list: {fruits}\")\n"
   ]
  },
  {
   "cell_type": "code",
   "execution_count": 11,
   "id": "9b28910c-c8e2-4286-aa1b-3cb439682f88",
   "metadata": {},
   "outputs": [
    {
     "name": "stdin",
     "output_type": "stream",
     "text": [
      "Enter number 1:  2\n",
      "Enter number 2:  3\n",
      "Enter number 3:  4\n",
      "Enter number 4:  8\n",
      "Enter number 5:  32\n"
     ]
    },
    {
     "name": "stdout",
     "output_type": "stream",
     "text": [
      "Sorted list in ascending order: [2.0, 3.0, 4.0, 8.0, 32.0]\n",
      "Sorted list in descending order: [32.0, 8.0, 4.0, 3.0, 2.0]\n"
     ]
    }
   ],
   "source": [
    "# Sorting a List\n",
    "# Get a list of 5 numbers from the user\n",
    "numbers = []\n",
    "for i in range(5):\n",
    "    number = float(input(f\"Enter number {i + 1}: \"))  # Convert input to float\n",
    "    numbers.append(number)\n",
    "\n",
    "# Sort in ascending order\n",
    "numbers.sort()\n",
    "print(f\"Sorted list in ascending order: {numbers}\")\n",
    "\n",
    "# Sort in descending order\n",
    "numbers.sort(reverse=True)\n",
    "print(f\"Sorted list in descending order: {numbers}\")\n"
   ]
  },
  {
   "cell_type": "code",
   "execution_count": 23,
   "id": "90960374-4676-499a-8cae-d911bef9c611",
   "metadata": {},
   "outputs": [
    {
     "name": "stdout",
     "output_type": "stream",
     "text": [
      "First 5 elements: [1, 2, 3, 4, 5]\n",
      "Last 5 elements: [6, 7, 8, 9, 10]\n",
      "Elements from index 2 to 7: [3, 4, 5, 6, 7, 8]\n"
     ]
    }
   ],
   "source": [
    "# List Slicing\n",
    "n = [1, 2, 3, 4, 5, 6, 7, 8, 9, 10]\n",
    "\n",
    "# Print the first 5 elements\n",
    "print(f\"First 5 elements: {n[:5]}\")\n",
    "\n",
    "# Print the last 5 elements\n",
    "print(f\"Last 5 elements: {n[-5:]}\")\n",
    "\n",
    "# Print elements from index 2 to index 7\n",
    "print(f\"Elements from index 2 to 7: {n[2:8]}\")\n"
   ]
  },
  {
   "cell_type": "code",
   "execution_count": 25,
   "id": "4489f45d-c24d-4d99-820e-7f9dbeb8672e",
   "metadata": {},
   "outputs": [
    {
     "name": "stdin",
     "output_type": "stream",
     "text": [
      "Enter name of student 1:  Aditi\n",
      "Enter score for subject 1:  80\n",
      "Enter score for subject 2:  70\n",
      "Enter score for subject 3:  50\n",
      "Enter name of student 2:  Arindam\n",
      "Enter score for subject 1:  90\n",
      "Enter score for subject 2:  80\n",
      "Enter score for subject 3:  40\n",
      "Enter name of student 3:  Rik\n",
      "Enter score for subject 1:  60\n",
      "Enter score for subject 2:  40\n",
      "Enter score for subject 3:  60\n"
     ]
    },
    {
     "name": "stdout",
     "output_type": "stream",
     "text": [
      "Aditi's average score: 66.67\n",
      "Arindam's average score: 70.00\n",
      "Rik's average score: 53.33\n"
     ]
    }
   ],
   "source": [
    "# Nested List\n",
    "# Initialize an empty nested list\n",
    "students = []\n",
    "\n",
    "# Get input for 3 students\n",
    "for i in range(3):\n",
    "    name = input(f\"Enter name of student {i + 1}: \")\n",
    "    scores = []\n",
    "    for j in range(3):  # For 3 subjects\n",
    "        score = float(input(f\"Enter score for subject {j + 1}: \"))\n",
    "        scores.append(score)\n",
    "    students.append([name, scores]) \n",
    "\n",
    "# Calculate and print average score for each student\n",
    "for student in students:\n",
    "    name = student[0]\n",
    "    average_score = sum(student[1]) / len(student[1])\n",
    "    print(f\"{name}'s average score: {average_score:.2f}\")\n"
   ]
  }
 ],
 "metadata": {
  "kernelspec": {
   "display_name": "Python 3 (ipykernel)",
   "language": "python",
   "name": "python3"
  },
  "language_info": {
   "codemirror_mode": {
    "name": "ipython",
    "version": 3
   },
   "file_extension": ".py",
   "mimetype": "text/x-python",
   "name": "python",
   "nbconvert_exporter": "python",
   "pygments_lexer": "ipython3",
   "version": "3.12.4"
  }
 },
 "nbformat": 4,
 "nbformat_minor": 5
}
