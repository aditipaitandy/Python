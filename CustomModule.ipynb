{
 "cells": [
  {
   "cell_type": "code",
   "execution_count": 1,
   "id": "bdcc2634-70bd-4f67-ba24-ddc8f014d0bf",
   "metadata": {},
   "outputs": [
    {
     "name": "stdout",
     "output_type": "stream",
     "text": [
      "\n",
      "Welcome to the Expense Tracker!\n",
      "1. Add a new expense\n",
      "2. View all expenses\n",
      "3. Exit\n"
     ]
    },
    {
     "name": "stdin",
     "output_type": "stream",
     "text": [
      "Choose an option (1/2/3):  1\n",
      "Enter the amount spent: Rs  300\n",
      "Enter a description for the expense (optional):  Dress\n"
     ]
    },
    {
     "name": "stdout",
     "output_type": "stream",
     "text": [
      "Expense added successfully!\n",
      "\n",
      "Welcome to the Expense Tracker!\n",
      "1. Add a new expense\n",
      "2. View all expenses\n",
      "3. Exit\n"
     ]
    },
    {
     "name": "stdin",
     "output_type": "stream",
     "text": [
      "Choose an option (1/2/3):  1\n",
      "Enter the amount spent: Rs  200\n",
      "Enter a description for the expense (optional):  Food\n"
     ]
    },
    {
     "name": "stdout",
     "output_type": "stream",
     "text": [
      "Expense added successfully!\n",
      "\n",
      "Welcome to the Expense Tracker!\n",
      "1. Add a new expense\n",
      "2. View all expenses\n",
      "3. Exit\n"
     ]
    },
    {
     "name": "stdin",
     "output_type": "stream",
     "text": [
      "Choose an option (1/2/3):  2\n"
     ]
    },
    {
     "name": "stdout",
     "output_type": "stream",
     "text": [
      "2024-11-18 15:13:40 - Dress: Rs 300.0\n",
      "2024-11-18 15:13:48 - Food: Rs 200.0\n",
      "Total amount spent: 500.0\n",
      "\n",
      "Welcome to the Expense Tracker!\n",
      "1. Add a new expense\n",
      "2. View all expenses\n",
      "3. Exit\n"
     ]
    },
    {
     "name": "stdin",
     "output_type": "stream",
     "text": [
      "Choose an option (1/2/3):  3\n"
     ]
    },
    {
     "name": "stdout",
     "output_type": "stream",
     "text": [
      "Goodbye! Thank you for using the Expense Tracker.\n"
     ]
    }
   ],
   "source": [
    "from datetime import datetime\n",
    "\n",
    "class ExpenseTracker:\n",
    "    def __init__(self):\n",
    "        self.expenses = []\n",
    "\n",
    "    def add_expense(self, amount, description=\"\"):\n",
    "        time_of_expense = datetime.now()\n",
    "        self.expenses.append((time_of_expense, description, amount))\n",
    "\n",
    "    def total_spent(self):\n",
    "        return sum(amount for _, _, amount in self.expenses)\n",
    "\n",
    "    def show_summary(self):\n",
    "        if not self.expenses:\n",
    "            print(\"No expenses recorded yet.\")\n",
    "        else:\n",
    "            for time, desc, amount in self.expenses:\n",
    "                print(f\"{time.strftime('%Y-%m-%d %H:%M:%S')} - {desc}: Rs {amount}\")\n",
    "            print(\"Total amount spent:\", self.total_spent())\n",
    "\n",
    "def main():\n",
    "    tracker = ExpenseTracker()\n",
    "\n",
    "    while True:\n",
    "        print(\"\\nWelcome to the Expense Tracker!\")\n",
    "        print(\"1. Add a new expense\")\n",
    "        print(\"2. View all expenses\")\n",
    "        print(\"3. Exit\")\n",
    "\n",
    "        choice = input(\"Choose an option (1/2/3): \")\n",
    "\n",
    "        if choice == \"1\":\n",
    "            try:\n",
    "                amount = float(input(\"Enter the amount spent: Rs \"))\n",
    "                description = input(\"Enter a description for the expense (optional): \")\n",
    "                tracker.add_expense(amount, description)\n",
    "                print(\"Expense added successfully!\")\n",
    "            except ValueError:\n",
    "                print(\"Oops! Please enter a valid number for the amount.\")\n",
    "\n",
    "        elif choice == \"2\":\n",
    "            tracker.show_summary()\n",
    "\n",
    "        elif choice == \"3\":\n",
    "            print(\"Goodbye! Thank you for using the Expense Tracker.\")\n",
    "            break\n",
    "\n",
    "        else:\n",
    "            print(\"Invalid choice. Please select 1, 2, or 3.\")\n",
    "\n",
    "if __name__ == \"__main__\":\n",
    "    main()"
   ]
  },
  {
   "cell_type": "code",
   "execution_count": null,
   "id": "ac4920b8-a656-4293-9537-4c989049721e",
   "metadata": {},
   "outputs": [],
   "source": []
  }
 ],
 "metadata": {
  "kernelspec": {
   "display_name": "Python 3 (ipykernel)",
   "language": "python",
   "name": "python3"
  },
  "language_info": {
   "codemirror_mode": {
    "name": "ipython",
    "version": 3
   },
   "file_extension": ".py",
   "mimetype": "text/x-python",
   "name": "python",
   "nbconvert_exporter": "python",
   "pygments_lexer": "ipython3",
   "version": "3.12.4"
  }
 },
 "nbformat": 4,
 "nbformat_minor": 5
}
